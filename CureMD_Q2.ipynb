{
  "nbformat": 4,
  "nbformat_minor": 0,
  "metadata": {
    "colab": {
      "name": "CureMD - Q2.ipynb",
      "provenance": [],
      "collapsed_sections": []
    },
    "kernelspec": {
      "name": "python3",
      "display_name": "Python 3"
    },
    "language_info": {
      "name": "python"
    },
    "accelerator": "GPU"
  },
  "cells": [
    {
      "cell_type": "markdown",
      "source": [
        "# CUREMD RESEARCH APTITUDE TEST - QUESTION 2\n",
        "Importing all the librararies used\n"
      ],
      "metadata": {
        "id": "ez5nuNP6I77E"
      }
    },
    {
      "cell_type": "code",
      "execution_count": 35,
      "metadata": {
        "id": "wOeibGAaYhu-"
      },
      "outputs": [],
      "source": [
        "\n",
        "import csv\n",
        "\n",
        "import pandas as pd\n",
        "import numpy as np\n",
        "from sklearn.metrics import confusion_matrix, accuracy_score, ConfusionMatrixDisplay, plot_confusion_matrix\n",
        "from sklearn.neighbors import NearestNeighbors, LocalOutlierFactor\n",
        "from sklearn.model_selection import train_test_split \n",
        "from nltk.translate.bleu_score import sentence_bleu, SmoothingFunction\n",
        "import seaborn as sn\n",
        "from tensorflow import keras\n",
        "import tensorflow as tf\n",
        "import random as python_random\n",
        "from tensorflow.keras import layers\n",
        "from tensorflow.keras.preprocessing import sequence\n",
        "from tensorflow.keras.preprocessing.text import Tokenizer\n",
        "from tensorflow.keras.callbacks import EarlyStopping\n",
        "from tensorflow.keras import backend as K\n",
        "from tensorflow.keras.optimizers import Adam\n",
        "from keras.preprocessing import sequence\n",
        "\n",
        "import matplotlib.pyplot as plt\n",
        "import editdistance"
      ]
    },
    {
      "cell_type": "markdown",
      "source": [
        "#DATA SET\n",
        "The data set is stroke prediction datat set based on a series of events"
      ],
      "metadata": {
        "id": "pErhZ21SJLmv"
      }
    },
    {
      "cell_type": "code",
      "source": [
        "df = pd.read_csv('healthcare-dataset-stroke-data.csv')\n",
        "# Remove records with missing values\n",
        "#df = df[df['bmi'].notna()]\n",
        "#df\n",
        "df = df[df['bmi'].notna()]\n",
        "df"
      ],
      "metadata": {
        "id": "Mg6APK0XYw8X",
        "colab": {
          "base_uri": "https://localhost:8080/",
          "height": 424
        },
        "outputId": "1a77bdee-a24f-4922-b5c6-73d986e3512d"
      },
      "execution_count": 2,
      "outputs": [
        {
          "output_type": "execute_result",
          "data": {
            "text/plain": [
              "         id  gender   age  hypertension  heart_disease ever_married  \\\n",
              "0      9046    Male  67.0             0              1          Yes   \n",
              "2     31112    Male  80.0             0              1          Yes   \n",
              "3     60182  Female  49.0             0              0          Yes   \n",
              "4      1665  Female  79.0             1              0          Yes   \n",
              "5     56669    Male  81.0             0              0          Yes   \n",
              "...     ...     ...   ...           ...            ...          ...   \n",
              "5104  14180  Female  13.0             0              0           No   \n",
              "5106  44873  Female  81.0             0              0          Yes   \n",
              "5107  19723  Female  35.0             0              0          Yes   \n",
              "5108  37544    Male  51.0             0              0          Yes   \n",
              "5109  44679  Female  44.0             0              0          Yes   \n",
              "\n",
              "          work_type Residence_type  avg_glucose_level   bmi   smoking_status  \\\n",
              "0           Private          Urban             228.69  36.6  formerly smoked   \n",
              "2           Private          Rural             105.92  32.5     never smoked   \n",
              "3           Private          Urban             171.23  34.4           smokes   \n",
              "4     Self-employed          Rural             174.12  24.0     never smoked   \n",
              "5           Private          Urban             186.21  29.0  formerly smoked   \n",
              "...             ...            ...                ...   ...              ...   \n",
              "5104       children          Rural             103.08  18.6          Unknown   \n",
              "5106  Self-employed          Urban             125.20  40.0     never smoked   \n",
              "5107  Self-employed          Rural              82.99  30.6     never smoked   \n",
              "5108        Private          Rural             166.29  25.6  formerly smoked   \n",
              "5109       Govt_job          Urban              85.28  26.2          Unknown   \n",
              "\n",
              "      stroke  \n",
              "0          1  \n",
              "2          1  \n",
              "3          1  \n",
              "4          1  \n",
              "5          1  \n",
              "...      ...  \n",
              "5104       0  \n",
              "5106       0  \n",
              "5107       0  \n",
              "5108       0  \n",
              "5109       0  \n",
              "\n",
              "[4909 rows x 12 columns]"
            ],
            "text/html": [
              "\n",
              "  <div id=\"df-8cb8e29c-b0b8-4035-9fa3-44f69bf97ac4\">\n",
              "    <div class=\"colab-df-container\">\n",
              "      <div>\n",
              "<style scoped>\n",
              "    .dataframe tbody tr th:only-of-type {\n",
              "        vertical-align: middle;\n",
              "    }\n",
              "\n",
              "    .dataframe tbody tr th {\n",
              "        vertical-align: top;\n",
              "    }\n",
              "\n",
              "    .dataframe thead th {\n",
              "        text-align: right;\n",
              "    }\n",
              "</style>\n",
              "<table border=\"1\" class=\"dataframe\">\n",
              "  <thead>\n",
              "    <tr style=\"text-align: right;\">\n",
              "      <th></th>\n",
              "      <th>id</th>\n",
              "      <th>gender</th>\n",
              "      <th>age</th>\n",
              "      <th>hypertension</th>\n",
              "      <th>heart_disease</th>\n",
              "      <th>ever_married</th>\n",
              "      <th>work_type</th>\n",
              "      <th>Residence_type</th>\n",
              "      <th>avg_glucose_level</th>\n",
              "      <th>bmi</th>\n",
              "      <th>smoking_status</th>\n",
              "      <th>stroke</th>\n",
              "    </tr>\n",
              "  </thead>\n",
              "  <tbody>\n",
              "    <tr>\n",
              "      <th>0</th>\n",
              "      <td>9046</td>\n",
              "      <td>Male</td>\n",
              "      <td>67.0</td>\n",
              "      <td>0</td>\n",
              "      <td>1</td>\n",
              "      <td>Yes</td>\n",
              "      <td>Private</td>\n",
              "      <td>Urban</td>\n",
              "      <td>228.69</td>\n",
              "      <td>36.6</td>\n",
              "      <td>formerly smoked</td>\n",
              "      <td>1</td>\n",
              "    </tr>\n",
              "    <tr>\n",
              "      <th>2</th>\n",
              "      <td>31112</td>\n",
              "      <td>Male</td>\n",
              "      <td>80.0</td>\n",
              "      <td>0</td>\n",
              "      <td>1</td>\n",
              "      <td>Yes</td>\n",
              "      <td>Private</td>\n",
              "      <td>Rural</td>\n",
              "      <td>105.92</td>\n",
              "      <td>32.5</td>\n",
              "      <td>never smoked</td>\n",
              "      <td>1</td>\n",
              "    </tr>\n",
              "    <tr>\n",
              "      <th>3</th>\n",
              "      <td>60182</td>\n",
              "      <td>Female</td>\n",
              "      <td>49.0</td>\n",
              "      <td>0</td>\n",
              "      <td>0</td>\n",
              "      <td>Yes</td>\n",
              "      <td>Private</td>\n",
              "      <td>Urban</td>\n",
              "      <td>171.23</td>\n",
              "      <td>34.4</td>\n",
              "      <td>smokes</td>\n",
              "      <td>1</td>\n",
              "    </tr>\n",
              "    <tr>\n",
              "      <th>4</th>\n",
              "      <td>1665</td>\n",
              "      <td>Female</td>\n",
              "      <td>79.0</td>\n",
              "      <td>1</td>\n",
              "      <td>0</td>\n",
              "      <td>Yes</td>\n",
              "      <td>Self-employed</td>\n",
              "      <td>Rural</td>\n",
              "      <td>174.12</td>\n",
              "      <td>24.0</td>\n",
              "      <td>never smoked</td>\n",
              "      <td>1</td>\n",
              "    </tr>\n",
              "    <tr>\n",
              "      <th>5</th>\n",
              "      <td>56669</td>\n",
              "      <td>Male</td>\n",
              "      <td>81.0</td>\n",
              "      <td>0</td>\n",
              "      <td>0</td>\n",
              "      <td>Yes</td>\n",
              "      <td>Private</td>\n",
              "      <td>Urban</td>\n",
              "      <td>186.21</td>\n",
              "      <td>29.0</td>\n",
              "      <td>formerly smoked</td>\n",
              "      <td>1</td>\n",
              "    </tr>\n",
              "    <tr>\n",
              "      <th>...</th>\n",
              "      <td>...</td>\n",
              "      <td>...</td>\n",
              "      <td>...</td>\n",
              "      <td>...</td>\n",
              "      <td>...</td>\n",
              "      <td>...</td>\n",
              "      <td>...</td>\n",
              "      <td>...</td>\n",
              "      <td>...</td>\n",
              "      <td>...</td>\n",
              "      <td>...</td>\n",
              "      <td>...</td>\n",
              "    </tr>\n",
              "    <tr>\n",
              "      <th>5104</th>\n",
              "      <td>14180</td>\n",
              "      <td>Female</td>\n",
              "      <td>13.0</td>\n",
              "      <td>0</td>\n",
              "      <td>0</td>\n",
              "      <td>No</td>\n",
              "      <td>children</td>\n",
              "      <td>Rural</td>\n",
              "      <td>103.08</td>\n",
              "      <td>18.6</td>\n",
              "      <td>Unknown</td>\n",
              "      <td>0</td>\n",
              "    </tr>\n",
              "    <tr>\n",
              "      <th>5106</th>\n",
              "      <td>44873</td>\n",
              "      <td>Female</td>\n",
              "      <td>81.0</td>\n",
              "      <td>0</td>\n",
              "      <td>0</td>\n",
              "      <td>Yes</td>\n",
              "      <td>Self-employed</td>\n",
              "      <td>Urban</td>\n",
              "      <td>125.20</td>\n",
              "      <td>40.0</td>\n",
              "      <td>never smoked</td>\n",
              "      <td>0</td>\n",
              "    </tr>\n",
              "    <tr>\n",
              "      <th>5107</th>\n",
              "      <td>19723</td>\n",
              "      <td>Female</td>\n",
              "      <td>35.0</td>\n",
              "      <td>0</td>\n",
              "      <td>0</td>\n",
              "      <td>Yes</td>\n",
              "      <td>Self-employed</td>\n",
              "      <td>Rural</td>\n",
              "      <td>82.99</td>\n",
              "      <td>30.6</td>\n",
              "      <td>never smoked</td>\n",
              "      <td>0</td>\n",
              "    </tr>\n",
              "    <tr>\n",
              "      <th>5108</th>\n",
              "      <td>37544</td>\n",
              "      <td>Male</td>\n",
              "      <td>51.0</td>\n",
              "      <td>0</td>\n",
              "      <td>0</td>\n",
              "      <td>Yes</td>\n",
              "      <td>Private</td>\n",
              "      <td>Rural</td>\n",
              "      <td>166.29</td>\n",
              "      <td>25.6</td>\n",
              "      <td>formerly smoked</td>\n",
              "      <td>0</td>\n",
              "    </tr>\n",
              "    <tr>\n",
              "      <th>5109</th>\n",
              "      <td>44679</td>\n",
              "      <td>Female</td>\n",
              "      <td>44.0</td>\n",
              "      <td>0</td>\n",
              "      <td>0</td>\n",
              "      <td>Yes</td>\n",
              "      <td>Govt_job</td>\n",
              "      <td>Urban</td>\n",
              "      <td>85.28</td>\n",
              "      <td>26.2</td>\n",
              "      <td>Unknown</td>\n",
              "      <td>0</td>\n",
              "    </tr>\n",
              "  </tbody>\n",
              "</table>\n",
              "<p>4909 rows × 12 columns</p>\n",
              "</div>\n",
              "      <button class=\"colab-df-convert\" onclick=\"convertToInteractive('df-8cb8e29c-b0b8-4035-9fa3-44f69bf97ac4')\"\n",
              "              title=\"Convert this dataframe to an interactive table.\"\n",
              "              style=\"display:none;\">\n",
              "        \n",
              "  <svg xmlns=\"http://www.w3.org/2000/svg\" height=\"24px\"viewBox=\"0 0 24 24\"\n",
              "       width=\"24px\">\n",
              "    <path d=\"M0 0h24v24H0V0z\" fill=\"none\"/>\n",
              "    <path d=\"M18.56 5.44l.94 2.06.94-2.06 2.06-.94-2.06-.94-.94-2.06-.94 2.06-2.06.94zm-11 1L8.5 8.5l.94-2.06 2.06-.94-2.06-.94L8.5 2.5l-.94 2.06-2.06.94zm10 10l.94 2.06.94-2.06 2.06-.94-2.06-.94-.94-2.06-.94 2.06-2.06.94z\"/><path d=\"M17.41 7.96l-1.37-1.37c-.4-.4-.92-.59-1.43-.59-.52 0-1.04.2-1.43.59L10.3 9.45l-7.72 7.72c-.78.78-.78 2.05 0 2.83L4 21.41c.39.39.9.59 1.41.59.51 0 1.02-.2 1.41-.59l7.78-7.78 2.81-2.81c.8-.78.8-2.07 0-2.86zM5.41 20L4 18.59l7.72-7.72 1.47 1.35L5.41 20z\"/>\n",
              "  </svg>\n",
              "      </button>\n",
              "      \n",
              "  <style>\n",
              "    .colab-df-container {\n",
              "      display:flex;\n",
              "      flex-wrap:wrap;\n",
              "      gap: 12px;\n",
              "    }\n",
              "\n",
              "    .colab-df-convert {\n",
              "      background-color: #E8F0FE;\n",
              "      border: none;\n",
              "      border-radius: 50%;\n",
              "      cursor: pointer;\n",
              "      display: none;\n",
              "      fill: #1967D2;\n",
              "      height: 32px;\n",
              "      padding: 0 0 0 0;\n",
              "      width: 32px;\n",
              "    }\n",
              "\n",
              "    .colab-df-convert:hover {\n",
              "      background-color: #E2EBFA;\n",
              "      box-shadow: 0px 1px 2px rgba(60, 64, 67, 0.3), 0px 1px 3px 1px rgba(60, 64, 67, 0.15);\n",
              "      fill: #174EA6;\n",
              "    }\n",
              "\n",
              "    [theme=dark] .colab-df-convert {\n",
              "      background-color: #3B4455;\n",
              "      fill: #D2E3FC;\n",
              "    }\n",
              "\n",
              "    [theme=dark] .colab-df-convert:hover {\n",
              "      background-color: #434B5C;\n",
              "      box-shadow: 0px 1px 3px 1px rgba(0, 0, 0, 0.15);\n",
              "      filter: drop-shadow(0px 1px 2px rgba(0, 0, 0, 0.3));\n",
              "      fill: #FFFFFF;\n",
              "    }\n",
              "  </style>\n",
              "\n",
              "      <script>\n",
              "        const buttonEl =\n",
              "          document.querySelector('#df-8cb8e29c-b0b8-4035-9fa3-44f69bf97ac4 button.colab-df-convert');\n",
              "        buttonEl.style.display =\n",
              "          google.colab.kernel.accessAllowed ? 'block' : 'none';\n",
              "\n",
              "        async function convertToInteractive(key) {\n",
              "          const element = document.querySelector('#df-8cb8e29c-b0b8-4035-9fa3-44f69bf97ac4');\n",
              "          const dataTable =\n",
              "            await google.colab.kernel.invokeFunction('convertToInteractive',\n",
              "                                                     [key], {});\n",
              "          if (!dataTable) return;\n",
              "\n",
              "          const docLinkHtml = 'Like what you see? Visit the ' +\n",
              "            '<a target=\"_blank\" href=https://colab.research.google.com/notebooks/data_table.ipynb>data table notebook</a>'\n",
              "            + ' to learn more about interactive tables.';\n",
              "          element.innerHTML = '';\n",
              "          dataTable['output_type'] = 'display_data';\n",
              "          await google.colab.output.renderOutput(dataTable, element);\n",
              "          const docLink = document.createElement('div');\n",
              "          docLink.innerHTML = docLinkHtml;\n",
              "          element.appendChild(docLink);\n",
              "        }\n",
              "      </script>\n",
              "    </div>\n",
              "  </div>\n",
              "  "
            ]
          },
          "metadata": {},
          "execution_count": 2
        }
      ]
    },
    {
      "cell_type": "code",
      "source": [
        "df = df.values"
      ],
      "metadata": {
        "id": "6mc9tsXwKg0G"
      },
      "execution_count": 3,
      "outputs": []
    },
    {
      "cell_type": "code",
      "source": [
        "# Encode Data\n",
        "for i in range(len(df)):\n",
        "  df[i][df[i] == 'Male'] = 1\n",
        "  df[i][df[i] == 'Female'] = 0\n",
        "  df[i][df[i] == 'Other'] = 2\n",
        "\n",
        "  df[i][df[i] == 'Yes'] = 1\n",
        "  df[i][df[i] == 'No'] = 0\n",
        "\n",
        "  df[i][df[i] == 'Govt_job'] = 2\n",
        "  df[i][df[i] == 'Never_worked'] = 0\n",
        "  df[i][df[i] == 'Private'] = 1\n",
        "  df[i][df[i] == 'Self-employed'] = 3\n",
        "  df[i][df[i] == 'children'] = 4\n",
        "\n",
        "  df[i][df[i] == 'Rural'] = 1\n",
        "  df[i][df[i] == 'Urban'] = 0\n",
        "\n",
        "  df[i][df[i] == 'Unknown'] = 3\n",
        "  df[i][df[i] == 'never smoked'] = 0\n",
        "  df[i][df[i] == 'formerly smoked'] = 1\n",
        "  df[i][df[i] == 'smokes'] = 2"
      ],
      "metadata": {
        "id": "0Wj9K6ZBjA90"
      },
      "execution_count": 4,
      "outputs": []
    },
    {
      "cell_type": "code",
      "source": [
        "df[0]"
      ],
      "metadata": {
        "colab": {
          "base_uri": "https://localhost:8080/"
        },
        "id": "TY0ykQP5jDUn",
        "outputId": "5ad75d60-e0a3-48cb-d32b-0ceef7cac67b"
      },
      "execution_count": 5,
      "outputs": [
        {
          "output_type": "execute_result",
          "data": {
            "text/plain": [
              "array([9046, 1, 67.0, 0, 1, 1, 1, 0, 228.69, 36.6, 1, 1], dtype=object)"
            ]
          },
          "metadata": {},
          "execution_count": 5
        }
      ]
    },
    {
      "cell_type": "markdown",
      "source": [
        "Sepatating  positive nad negative outcomes"
      ],
      "metadata": {
        "id": "4xIFvli8JXWo"
      }
    },
    {
      "cell_type": "code",
      "source": [
        "x_neg_list = np.array([x[:-1] for x in df if x[-1] == 0])\n",
        "y_neg_list = np.zeros((len(x_neg_list),), dtype = int)\n",
        "x_pos_list = np.array([x[:-1] for x in df if x[-1] == 1])\n",
        "y_pos_list = np.ones((len(x_pos_list),), dtype = int)\n"
      ],
      "metadata": {
        "id": "6zzB73F7LCPr"
      },
      "execution_count": 6,
      "outputs": []
    },
    {
      "cell_type": "code",
      "source": [
        "x_pos_train, x_pos_rem, y_pos_train, y_pos_rem = train_test_split(x_pos_list, y_pos_list, train_size=0.8)  \n",
        "x_pos_valid, x_pos_test, y_pos_valid, y_pos_test = train_test_split(x_pos_rem,y_pos_rem, test_size=0.5)\n",
        "\n",
        "x_neg_train, x_neg_rem, y_neg_train, y_neg_rem = train_test_split(x_neg_list, y_neg_list, train_size=0.8)  \n",
        "x_neg_valid, x_neg_test, y_neg_valid, y_neg_test = train_test_split(x_neg_rem,y_neg_rem, test_size=0.5)\n",
        "\n",
        "x_train = np.concatenate((x_pos_train, x_neg_train),axis = 0)\n",
        "y_train = np.concatenate((y_pos_train, y_neg_train),axis = 0)\n",
        "\n",
        "x_valid = np.concatenate((x_pos_valid, x_neg_valid),axis = 0)\n",
        "y_valid = np.concatenate((y_pos_valid, y_neg_valid),axis = 0)\n",
        "\n",
        "x_test = np.concatenate((x_pos_test, x_neg_test),axis = 0)\n",
        "y_test = np.concatenate((y_pos_test, y_neg_test),axis = 0)"
      ],
      "metadata": {
        "id": "6GqH3cqPTsbB"
      },
      "execution_count": 7,
      "outputs": []
    },
    {
      "cell_type": "code",
      "source": [
        "x_train.shape"
      ],
      "metadata": {
        "colab": {
          "base_uri": "https://localhost:8080/"
        },
        "id": "OA-NbB8Zm8-W",
        "outputId": "02689561-cfc3-45d7-cb02-52aa4107464c"
      },
      "execution_count": 8,
      "outputs": [
        {
          "output_type": "execute_result",
          "data": {
            "text/plain": [
              "(3927, 11)"
            ]
          },
          "metadata": {},
          "execution_count": 8
        }
      ]
    },
    {
      "cell_type": "markdown",
      "source": [
        "# Data Processing\n"
      ],
      "metadata": {
        "id": "K9PbHIiKJdLr"
      }
    },
    {
      "cell_type": "code",
      "source": [
        "X_train_padded = sequence.pad_sequences(x_train, maxlen=24, padding='post')\n",
        "X_val_padded = sequence.pad_sequences(x_valid, maxlen=24, padding='post')\n",
        "X_test_padded = sequence.pad_sequences(x_test, maxlen=24, padding='post')"
      ],
      "metadata": {
        "id": "q36fZdlanQ_6"
      },
      "execution_count": 9,
      "outputs": []
    },
    {
      "cell_type": "code",
      "source": [
        "X_train_padded[0]"
      ],
      "metadata": {
        "id": "RJC5fwUQdupn",
        "colab": {
          "base_uri": "https://localhost:8080/"
        },
        "outputId": "d05e48b4-6100-4d1a-8ffd-0c824ddcec75"
      },
      "execution_count": 10,
      "outputs": [
        {
          "output_type": "execute_result",
          "data": {
            "text/plain": [
              "array([20439,     1,    82,     0,     1,     1,     2,     1,   103,\n",
              "          25,     0,     0,     0,     0,     0,     0,     0,     0,\n",
              "           0,     0,     0,     0,     0,     0], dtype=int32)"
            ]
          },
          "metadata": {},
          "execution_count": 10
        }
      ]
    },
    {
      "cell_type": "code",
      "source": [
        "vocab_size = 1400"
      ],
      "metadata": {
        "id": "t3OdwOxTbqNt"
      },
      "execution_count": 11,
      "outputs": []
    },
    {
      "cell_type": "markdown",
      "source": [
        "#Training Model"
      ],
      "metadata": {
        "id": "UPsd1HuhJlrJ"
      }
    },
    {
      "cell_type": "code",
      "source": [
        "# Add Input layer\n",
        "inputs = keras.Input(shape=(None,), dtype=\"int32\")\n",
        "\n",
        "# Add embedding layer\n",
        "x = layers.Embedding(vocab_size, 128)(inputs)\n",
        "\n",
        "# Add LSTM layers\n",
        "x = layers.Bidirectional(layers.LSTM(32, return_sequences=True))(x)\n",
        "x = layers.Bidirectional(layers.LSTM(32))(x)\n",
        "\n",
        "# Add fully connected layer\n",
        "outputs = layers.Dense(1, activation=\"sigmoid\")(x)\n",
        "\n",
        "# Create Model\n",
        "model = keras.Model(inputs, outputs)\n",
        "model.summary()"
      ],
      "metadata": {
        "colab": {
          "base_uri": "https://localhost:8080/"
        },
        "id": "_RIRQ0VrbEzH",
        "outputId": "17a1e254-fb7b-4d60-efc5-bb06037bd791"
      },
      "execution_count": 12,
      "outputs": [
        {
          "output_type": "stream",
          "name": "stdout",
          "text": [
            "Model: \"model\"\n",
            "_________________________________________________________________\n",
            " Layer (type)                Output Shape              Param #   \n",
            "=================================================================\n",
            " input_1 (InputLayer)        [(None, None)]            0         \n",
            "                                                                 \n",
            " embedding (Embedding)       (None, None, 128)         179200    \n",
            "                                                                 \n",
            " bidirectional (Bidirectiona  (None, None, 64)         41216     \n",
            " l)                                                              \n",
            "                                                                 \n",
            " bidirectional_1 (Bidirectio  (None, 64)               24832     \n",
            " nal)                                                            \n",
            "                                                                 \n",
            " dense (Dense)               (None, 1)                 65        \n",
            "                                                                 \n",
            "=================================================================\n",
            "Total params: 245,313\n",
            "Trainable params: 245,313\n",
            "Non-trainable params: 0\n",
            "_________________________________________________________________\n"
          ]
        }
      ]
    },
    {
      "cell_type": "code",
      "source": [
        "model.compile(Adam(learning_rate = 0.01), loss = 'binary_crossentropy', metrics = ['accuracy'])"
      ],
      "metadata": {
        "id": "xpgt4ULKbjXr"
      },
      "execution_count": 13,
      "outputs": []
    },
    {
      "cell_type": "code",
      "source": [
        "es = EarlyStopping(monitor = 'val_accuracy', patience = 3, restore_best_weights = True)"
      ],
      "metadata": {
        "id": "YaH1Cma2e5z2"
      },
      "execution_count": 14,
      "outputs": []
    },
    {
      "cell_type": "code",
      "source": [
        "print(type(X_train_padded))\n",
        "print(type(X_val_padded))\n",
        "print(type(y_train))\n",
        "print(type(y_valid))"
      ],
      "metadata": {
        "colab": {
          "base_uri": "https://localhost:8080/"
        },
        "id": "NKRwCo0eggKe",
        "outputId": "e4855f99-1496-494b-b2f4-55b4cf4ee375"
      },
      "execution_count": 15,
      "outputs": [
        {
          "output_type": "stream",
          "name": "stdout",
          "text": [
            "<class 'numpy.ndarray'>\n",
            "<class 'numpy.ndarray'>\n",
            "<class 'numpy.ndarray'>\n",
            "<class 'numpy.ndarray'>\n"
          ]
        }
      ]
    },
    {
      "cell_type": "code",
      "source": [
        "X_train_padded.shape"
      ],
      "metadata": {
        "colab": {
          "base_uri": "https://localhost:8080/"
        },
        "id": "MpN4BsACz9C6",
        "outputId": "e35a5fae-0670-45ac-cf8a-434bf6d97bbe"
      },
      "execution_count": 16,
      "outputs": [
        {
          "output_type": "execute_result",
          "data": {
            "text/plain": [
              "(3927, 24)"
            ]
          },
          "metadata": {},
          "execution_count": 16
        }
      ]
    },
    {
      "cell_type": "code",
      "source": [
        "X_val_padded.shape"
      ],
      "metadata": {
        "colab": {
          "base_uri": "https://localhost:8080/"
        },
        "id": "CJcKBT5Qz-Q8",
        "outputId": "9a900960-6ed7-47d9-8305-404fecdace92"
      },
      "execution_count": 17,
      "outputs": [
        {
          "output_type": "execute_result",
          "data": {
            "text/plain": [
              "(491, 24)"
            ]
          },
          "metadata": {},
          "execution_count": 17
        }
      ]
    },
    {
      "cell_type": "code",
      "source": [
        "y_train.shape"
      ],
      "metadata": {
        "colab": {
          "base_uri": "https://localhost:8080/"
        },
        "id": "DuwkMhGC0BFv",
        "outputId": "d2b6a3bb-84d7-4153-c25c-57e3f73cb8c2"
      },
      "execution_count": 18,
      "outputs": [
        {
          "output_type": "execute_result",
          "data": {
            "text/plain": [
              "(3927,)"
            ]
          },
          "metadata": {},
          "execution_count": 18
        }
      ]
    },
    {
      "cell_type": "code",
      "source": [
        "y_valid.shape"
      ],
      "metadata": {
        "colab": {
          "base_uri": "https://localhost:8080/"
        },
        "id": "AHqURnS50E8H",
        "outputId": "890cba83-90b3-48ad-a0ed-accad33ce31b"
      },
      "execution_count": 19,
      "outputs": [
        {
          "output_type": "execute_result",
          "data": {
            "text/plain": [
              "(491,)"
            ]
          },
          "metadata": {},
          "execution_count": 19
        }
      ]
    },
    {
      "cell_type": "code",
      "source": [
        "history = model.fit(X_train_padded, y_train, epochs = 30, batch_size = 64, validation_data=(X_val_padded, y_valid))"
      ],
      "metadata": {
        "colab": {
          "base_uri": "https://localhost:8080/"
        },
        "id": "BJwdaPTEcjvF",
        "outputId": "95071b8c-f315-44f3-c623-3efa92b0ad56"
      },
      "execution_count": 20,
      "outputs": [
        {
          "output_type": "stream",
          "name": "stdout",
          "text": [
            "Epoch 1/30\n",
            "62/62 [==============================] - 16s 61ms/step - loss: 0.1915 - accuracy: 0.9412 - val_loss: 0.1732 - val_accuracy: 0.9572\n",
            "Epoch 2/30\n",
            "62/62 [==============================] - 2s 32ms/step - loss: 0.1558 - accuracy: 0.9575 - val_loss: 0.1790 - val_accuracy: 0.9572\n",
            "Epoch 3/30\n",
            "62/62 [==============================] - 2s 32ms/step - loss: 0.1506 - accuracy: 0.9575 - val_loss: 0.1634 - val_accuracy: 0.9572\n",
            "Epoch 4/30\n",
            "62/62 [==============================] - 2s 30ms/step - loss: 0.1429 - accuracy: 0.9575 - val_loss: 0.1603 - val_accuracy: 0.9572\n",
            "Epoch 5/30\n",
            "62/62 [==============================] - 2s 31ms/step - loss: 0.1352 - accuracy: 0.9582 - val_loss: 0.1710 - val_accuracy: 0.9572\n",
            "Epoch 6/30\n",
            "62/62 [==============================] - 2s 31ms/step - loss: 0.1270 - accuracy: 0.9587 - val_loss: 0.1719 - val_accuracy: 0.9572\n",
            "Epoch 7/30\n",
            "62/62 [==============================] - 2s 30ms/step - loss: 0.1236 - accuracy: 0.9585 - val_loss: 0.1606 - val_accuracy: 0.9572\n",
            "Epoch 8/30\n",
            "62/62 [==============================] - 2s 30ms/step - loss: 0.1212 - accuracy: 0.9587 - val_loss: 0.1687 - val_accuracy: 0.9572\n",
            "Epoch 9/30\n",
            "62/62 [==============================] - 2s 30ms/step - loss: 0.1155 - accuracy: 0.9587 - val_loss: 0.1853 - val_accuracy: 0.9572\n",
            "Epoch 10/30\n",
            "62/62 [==============================] - 2s 30ms/step - loss: 0.1122 - accuracy: 0.9593 - val_loss: 0.2002 - val_accuracy: 0.9572\n",
            "Epoch 11/30\n",
            "62/62 [==============================] - 2s 30ms/step - loss: 0.1033 - accuracy: 0.9590 - val_loss: 0.2036 - val_accuracy: 0.9532\n",
            "Epoch 12/30\n",
            "62/62 [==============================] - 2s 31ms/step - loss: 0.0973 - accuracy: 0.9613 - val_loss: 0.2058 - val_accuracy: 0.9511\n",
            "Epoch 13/30\n",
            "62/62 [==============================] - 2s 30ms/step - loss: 0.0949 - accuracy: 0.9649 - val_loss: 0.2269 - val_accuracy: 0.9511\n",
            "Epoch 14/30\n",
            "62/62 [==============================] - 2s 30ms/step - loss: 0.0850 - accuracy: 0.9669 - val_loss: 0.2537 - val_accuracy: 0.9308\n",
            "Epoch 15/30\n",
            "62/62 [==============================] - 2s 31ms/step - loss: 0.0867 - accuracy: 0.9666 - val_loss: 0.3036 - val_accuracy: 0.9287\n",
            "Epoch 16/30\n",
            "62/62 [==============================] - 2s 31ms/step - loss: 0.0855 - accuracy: 0.9697 - val_loss: 0.2348 - val_accuracy: 0.9430\n",
            "Epoch 17/30\n",
            "62/62 [==============================] - 2s 31ms/step - loss: 0.0793 - accuracy: 0.9700 - val_loss: 0.2541 - val_accuracy: 0.9572\n",
            "Epoch 18/30\n",
            "62/62 [==============================] - 2s 30ms/step - loss: 0.0695 - accuracy: 0.9738 - val_loss: 0.2983 - val_accuracy: 0.9267\n",
            "Epoch 19/30\n",
            "62/62 [==============================] - 2s 31ms/step - loss: 0.0603 - accuracy: 0.9771 - val_loss: 0.2963 - val_accuracy: 0.9552\n",
            "Epoch 20/30\n",
            "62/62 [==============================] - 2s 30ms/step - loss: 0.0712 - accuracy: 0.9750 - val_loss: 0.2890 - val_accuracy: 0.9267\n",
            "Epoch 21/30\n",
            "62/62 [==============================] - 2s 30ms/step - loss: 0.0704 - accuracy: 0.9725 - val_loss: 0.2776 - val_accuracy: 0.9491\n",
            "Epoch 22/30\n",
            "62/62 [==============================] - 2s 35ms/step - loss: 0.0671 - accuracy: 0.9740 - val_loss: 0.3078 - val_accuracy: 0.9409\n",
            "Epoch 23/30\n",
            "62/62 [==============================] - 2s 33ms/step - loss: 0.0546 - accuracy: 0.9786 - val_loss: 0.3036 - val_accuracy: 0.9409\n",
            "Epoch 24/30\n",
            "62/62 [==============================] - 2s 30ms/step - loss: 0.0484 - accuracy: 0.9799 - val_loss: 0.3598 - val_accuracy: 0.9409\n",
            "Epoch 25/30\n",
            "62/62 [==============================] - 2s 30ms/step - loss: 0.0558 - accuracy: 0.9791 - val_loss: 0.3321 - val_accuracy: 0.9430\n",
            "Epoch 26/30\n",
            "62/62 [==============================] - 2s 31ms/step - loss: 0.0523 - accuracy: 0.9796 - val_loss: 0.3221 - val_accuracy: 0.9369\n",
            "Epoch 27/30\n",
            "62/62 [==============================] - 2s 31ms/step - loss: 0.0491 - accuracy: 0.9801 - val_loss: 0.3452 - val_accuracy: 0.9308\n",
            "Epoch 28/30\n",
            "62/62 [==============================] - 2s 31ms/step - loss: 0.0506 - accuracy: 0.9806 - val_loss: 0.3127 - val_accuracy: 0.9450\n",
            "Epoch 29/30\n",
            "62/62 [==============================] - 2s 31ms/step - loss: 0.0428 - accuracy: 0.9829 - val_loss: 0.3416 - val_accuracy: 0.9491\n",
            "Epoch 30/30\n",
            "62/62 [==============================] - 2s 31ms/step - loss: 0.0396 - accuracy: 0.9842 - val_loss: 0.4040 - val_accuracy: 0.9348\n"
          ]
        }
      ]
    },
    {
      "cell_type": "code",
      "source": [
        "plt.plot(history.history['loss'])\n",
        "plt.plot(history.history['val_loss'])\n",
        "plt.title('model loss')\n",
        "plt.ylabel('loss')\n",
        "plt.xlabel('epoch')\n",
        "plt.legend(['train', 'val'], loc='upper left')\n",
        "plt.show()"
      ],
      "metadata": {
        "colab": {
          "base_uri": "https://localhost:8080/",
          "height": 295
        },
        "id": "Fdpn4zRTdBOz",
        "outputId": "efd78b42-b3f6-4751-beef-b3930b9fc06c"
      },
      "execution_count": 21,
      "outputs": [
        {
          "output_type": "display_data",
          "data": {
            "text/plain": [
              "<Figure size 432x288 with 1 Axes>"
            ],
            "image/png": "[encoded data removed]"
          },
          "metadata": {
            "needs_background": "light"
          }
        }
      ]
    },
    {
      "cell_type": "code",
      "source": [
        "plt.plot(history.history['accuracy'])\n",
        "plt.plot(history.history['val_accuracy'])\n",
        "plt.title('model accuracy')\n",
        "plt.ylabel('accuracy')\n",
        "plt.xlabel('epoch')\n",
        "plt.legend(['train', 'val'], loc='upper left')\n",
        "plt.show()"
      ],
      "metadata": {
        "colab": {
          "base_uri": "https://localhost:8080/",
          "height": 295
        },
        "id": "yG-7EPuW1W4t",
        "outputId": "03e1c374-636c-437f-c2ce-8f42244d65ac"
      },
      "execution_count": 22,
      "outputs": [
        {
          "output_type": "display_data",
          "data": {
            "text/plain": [
              "<Figure size 432x288 with 1 Axes>"
            ],
            "image/png": "[encoded data removed]"
          },
          "metadata": {
            "needs_background": "light"
          }
        }
      ]
    },
    {
      "cell_type": "markdown",
      "source": [
        "#Evaluating Model"
      ],
      "metadata": {
        "id": "WQoDfZTpJvf-"
      }
    },
    {
      "cell_type": "code",
      "source": [
        "y_pred = model.predict(X_test_padded)\n",
        "y_pred = np.round(y_pred)"
      ],
      "metadata": {
        "id": "ptSrIsmC1eat"
      },
      "execution_count": 23,
      "outputs": []
    },
    {
      "cell_type": "code",
      "source": [
        "acc = accuracy_score(y_test, y_pred)"
      ],
      "metadata": {
        "id": "3cY9M8SF87vk"
      },
      "execution_count": 29,
      "outputs": []
    },
    {
      "cell_type": "code",
      "source": [
        "cm = confusion_matrix(y_test, y_pred)"
      ],
      "metadata": {
        "id": "qxf9AsqECEw-"
      },
      "execution_count": 41,
      "outputs": []
    },
    {
      "cell_type": "code",
      "source": [
        "labels_cm = [0, 1]\n",
        "disp = ConfusionMatrixDisplay(confusion_matrix=cm,\n",
        "                              display_labels=labels_cm)\n",
        "\n",
        "disp.plot(cmap=plt.cm.Blues)\n",
        "plt.show()"
      ],
      "metadata": {
        "colab": {
          "base_uri": "https://localhost:8080/",
          "height": 279
        },
        "id": "1FusDSp88_bk",
        "outputId": "bae6bf8f-4f1d-4c66-c123-6cda42297fd1"
      },
      "execution_count": 42,
      "outputs": [
        {
          "output_type": "display_data",
          "data": {
            "text/plain": [
              "<Figure size 432x288 with 2 Axes>"
            ],
            "image/png": "[encoded data removed]"
          },
          "metadata": {
            "needs_background": "light"
          }
        }
      ]
    },
    {
      "cell_type": "markdown",
      "source": [
        "#Get the negative predictions\n"
      ],
      "metadata": {
        "id": "u3m4XgxcJ3gt"
      }
    },
    {
      "cell_type": "code",
      "source": [
        "X_pred_negative = X_test_padded[y_pred.reshape(y_pred.shape[0]) == 0]\n",
        "X_pred_negative\n"
      ],
      "metadata": {
        "colab": {
          "base_uri": "https://localhost:8080/"
        },
        "id": "g1S6_iJ298N-",
        "outputId": "e6e53b85-03f8-4b66-a444-0fff71a65381"
      },
      "execution_count": 49,
      "outputs": [
        {
          "output_type": "execute_result",
          "data": {
            "text/plain": [
              "array([[17004,     0,    70, ...,     0,     0,     0],\n",
              "       [45277,     0,    74, ...,     0,     0,     0],\n",
              "       [ 4219,     1,    71, ...,     0,     0,     0],\n",
              "       ...,\n",
              "       [ 2893,     0,     7, ...,     0,     0,     0],\n",
              "       [15964,     0,    64, ...,     0,     0,     0],\n",
              "       [23459,     0,    47, ...,     0,     0,     0]], dtype=int32)"
            ]
          },
          "metadata": {},
          "execution_count": 49
        }
      ]
    },
    {
      "cell_type": "code",
      "source": [
        "X_pred_negative.shape"
      ],
      "metadata": {
        "colab": {
          "base_uri": "https://localhost:8080/"
        },
        "id": "ZY7RGb7BDl_d",
        "outputId": "4e159892-1d0d-4566-a0c6-85b01f79e526"
      },
      "execution_count": 50,
      "outputs": [
        {
          "output_type": "execute_result",
          "data": {
            "text/plain": [
              "(484, 24)"
            ]
          },
          "metadata": {},
          "execution_count": 50
        }
      ]
    },
    {
      "cell_type": "markdown",
      "source": [
        "#Modification using nearest neighbours"
      ],
      "metadata": {
        "id": "LEpg6NumJ-X9"
      }
    },
    {
      "cell_type": "code",
      "source": [
        "nn_model = NearestNeighbors(n_neighbors = 1, metric='hamming')"
      ],
      "metadata": {
        "id": "MCnVIy2eEpoO"
      },
      "execution_count": 52,
      "outputs": []
    },
    {
      "cell_type": "code",
      "source": [
        "# Train data on true lables\n",
        "X_target_label = X_train_padded[y_train == 1]"
      ],
      "metadata": {
        "id": "l6lJeZbcFXVV"
      },
      "execution_count": 53,
      "outputs": []
    },
    {
      "cell_type": "code",
      "source": [
        "nn_model.fit(X_target_label)"
      ],
      "metadata": {
        "colab": {
          "base_uri": "https://localhost:8080/"
        },
        "id": "d-viBcbmFcB6",
        "outputId": "802a64c4-aa85-4068-a9ed-9f2d719a0e6a"
      },
      "execution_count": 54,
      "outputs": [
        {
          "output_type": "execute_result",
          "data": {
            "text/plain": [
              "NearestNeighbors(metric='hamming', n_neighbors=1)"
            ]
          },
          "metadata": {},
          "execution_count": 54
        }
      ]
    },
    {
      "cell_type": "code",
      "source": [
        "# Find the closest neighbor as a counterfactual\n",
        "closest = nn_model.kneighbors(X_pred_negative, return_distance = False)\n",
        "trans_results_nn = X_target_label[closest[:, 0]]\n",
        "\n",
        "trans_results_nn[0]"
      ],
      "metadata": {
        "colab": {
          "base_uri": "https://localhost:8080/"
        },
        "id": "dkxR0_V3FlNb",
        "outputId": "2c71df53-96ac-4b13-959c-3c5653709a67"
      },
      "execution_count": 55,
      "outputs": [
        {
          "output_type": "execute_result",
          "data": {
            "text/plain": [
              "array([17308,     0,    72,     1,     0,     1,     1,     0,   221,\n",
              "          30,     0,     0,     0,     0,     0,     0,     0,     0,\n",
              "           0,     0,     0,     0,     0,     0], dtype=int32)"
            ]
          },
          "metadata": {},
          "execution_count": 55
        }
      ]
    },
    {
      "cell_type": "markdown",
      "source": [
        "#Comparison between fraction of valid CFs"
      ],
      "metadata": {
        "id": "NOJpKLzVKIC2"
      }
    },
    {
      "cell_type": "code",
      "source": [
        "y_pred = model.predict(X_test_padded)"
      ],
      "metadata": {
        "id": "ANccZEl6FtfR"
      },
      "execution_count": 56,
      "outputs": []
    },
    {
      "cell_type": "code",
      "source": [
        "fraction_success = np.sum(y_pred > 0.5)/y_pred.shape[0]\n",
        "print(round(fraction_success, 4))"
      ],
      "metadata": {
        "colab": {
          "base_uri": "https://localhost:8080/"
        },
        "id": "p4nUp-6_FxHe",
        "outputId": "95b44220-7f31-4515-9a10-ccc810f95841"
      },
      "execution_count": 58,
      "outputs": [
        {
          "output_type": "stream",
          "name": "stdout",
          "text": [
            "0.0143\n"
          ]
        }
      ]
    },
    {
      "cell_type": "code",
      "source": [
        "# Counterfactual Results\n",
        "y_pred_new = model.predict(trans_results_nn)"
      ],
      "metadata": {
        "id": "XD86i8RDF01K"
      },
      "execution_count": 59,
      "outputs": []
    },
    {
      "cell_type": "code",
      "source": [
        "fraction_success_new = np.sum(y_pred_new > 0.5)/y_pred_new.shape[0]\n",
        "print(round(fraction_success_new, 4))"
      ],
      "metadata": {
        "colab": {
          "base_uri": "https://localhost:8080/"
        },
        "id": "9EEaFSAJF-vp",
        "outputId": "976b9a10-d792-4d5d-b79c-55cd0280eaac"
      },
      "execution_count": 60,
      "outputs": [
        {
          "output_type": "stream",
          "name": "stdout",
          "text": [
            "0.6632\n"
          ]
        }
      ]
    },
    {
      "cell_type": "markdown",
      "source": [
        "#Local outlier factor (LOF score)"
      ],
      "metadata": {
        "id": "FUO_5y4NKOEJ"
      }
    },
    {
      "cell_type": "code",
      "source": [
        "clf = LocalOutlierFactor(n_neighbors = 20, novelty = True, contamination = 0.1)\n",
        "clf.fit(X_target_label)"
      ],
      "metadata": {
        "colab": {
          "base_uri": "https://localhost:8080/"
        },
        "id": "r0hjKMRQGBUH",
        "outputId": "7badbcce-816e-451e-b2dd-19fb79cd57cf"
      },
      "execution_count": 61,
      "outputs": [
        {
          "output_type": "execute_result",
          "data": {
            "text/plain": [
              "LocalOutlierFactor(contamination=0.1, novelty=True)"
            ]
          },
          "metadata": {},
          "execution_count": 61
        }
      ]
    },
    {
      "cell_type": "code",
      "source": [
        "# Simple Results\n",
        "y_pred_test = clf.predict(X_test_padded)\n",
        "n_error_test = y_pred_test[y_pred_test == -1].size"
      ],
      "metadata": {
        "id": "9N8gxHR_GH_a"
      },
      "execution_count": 62,
      "outputs": []
    },
    {
      "cell_type": "code",
      "source": [
        "outlier_score_test = n_error_test/X_val_padded.shape[0]\n",
        "outlier_score_test"
      ],
      "metadata": {
        "colab": {
          "base_uri": "https://localhost:8080/"
        },
        "id": "N3lXWdN-GKtz",
        "outputId": "53cee133-5713-47ab-8501-77ca76525877"
      },
      "execution_count": 63,
      "outputs": [
        {
          "output_type": "execute_result",
          "data": {
            "text/plain": [
              "0.0855397148676171"
            ]
          },
          "metadata": {},
          "execution_count": 63
        }
      ]
    },
    {
      "cell_type": "code",
      "source": [
        "# Counterfactual Results\n",
        "y_pred_test_new = clf.predict(trans_results_nn)\n",
        "n_error_test_new = y_pred_test_new[y_pred_test_new == -1].size\n",
        "\n",
        "outlier_score_test = n_error_test_new / y_pred_test_new.shape[0]\n",
        "print(round(outlier_score_test, 4))"
      ],
      "metadata": {
        "colab": {
          "base_uri": "https://localhost:8080/"
        },
        "id": "aMDZfsFaGNgc",
        "outputId": "e9c863ce-f87c-4c4e-e4c1-b2096e54e404"
      },
      "execution_count": 64,
      "outputs": [
        {
          "output_type": "stream",
          "name": "stdout",
          "text": [
            "0.0455\n"
          ]
        }
      ]
    },
    {
      "cell_type": "markdown",
      "source": [
        "#Edit distance (Levenshtein)"
      ],
      "metadata": {
        "id": "bdcoZQ12KS70"
      }
    },
    {
      "cell_type": "code",
      "source": [
        "def get_edit_distance(original, transformed):\n",
        "    edit_distance_pair = [editdistance.eval(o, t) for o, t in zip(original.tolist(), transformed.tolist())]\n",
        "    edit_score = np.mean(edit_distance_pair)\n",
        "    \n",
        "    return round(edit_score, 4)"
      ],
      "metadata": {
        "id": "DdUXRLveGYT5"
      },
      "execution_count": 71,
      "outputs": []
    },
    {
      "cell_type": "code",
      "source": [
        "get_edit_distance(X_test_padded, X_pred_negative)"
      ],
      "metadata": {
        "colab": {
          "base_uri": "https://localhost:8080/"
        },
        "id": "OiR_qGvHIyN5",
        "outputId": "a192381a-afd3-44cf-bf69-aba1e5bca673"
      },
      "execution_count": 72,
      "outputs": [
        {
          "output_type": "execute_result",
          "data": {
            "text/plain": [
              "6.8678"
            ]
          },
          "metadata": {},
          "execution_count": 72
        }
      ]
    },
    {
      "cell_type": "code",
      "source": [
        "get_edit_distance(trans_results_nn, X_pred_negative)"
      ],
      "metadata": {
        "colab": {
          "base_uri": "https://localhost:8080/"
        },
        "id": "C471XY2HI0JA",
        "outputId": "caba526a-4182-4b68-d9ba-002b5b0e686d"
      },
      "execution_count": 73,
      "outputs": [
        {
          "output_type": "execute_result",
          "data": {
            "text/plain": [
              "4.1467"
            ]
          },
          "metadata": {},
          "execution_count": 73
        }
      ]
    },
    {
      "cell_type": "code",
      "source": [
        ""
      ],
      "metadata": {
        "id": "W7n-a0LiI2Rn"
      },
      "execution_count": null,
      "outputs": []
    }
  ]
}